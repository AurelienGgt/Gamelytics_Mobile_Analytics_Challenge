{
  "nbformat": 4,
  "nbformat_minor": 0,
  "metadata": {
    "colab": {
      "provenance": [],
      "authorship_tag": "ABX9TyMPoIYGMP4B1kznxoiWHJP+",
      "include_colab_link": true
    },
    "kernelspec": {
      "name": "python3",
      "display_name": "Python 3"
    },
    "language_info": {
      "name": "python"
    }
  },
  "cells": [
    {
      "cell_type": "markdown",
      "metadata": {
        "id": "view-in-github",
        "colab_type": "text"
      },
      "source": [
        "<a href=\"https://colab.research.google.com/github/AurelienGgt/Gamelytics_Mobile_Analytics_Challenge/blob/main/Data_exploration.ipynb\" target=\"_parent\"><img src=\"https://colab.research.google.com/assets/colab-badge.svg\" alt=\"Open In Colab\"/></a>"
      ]
    },
    {
      "cell_type": "code",
      "source": [
        "# Mount access to colab\n",
        "from google.colab import drive\n",
        "drive.mount('/content/drive')"
      ],
      "metadata": {
        "colab": {
          "base_uri": "https://localhost:8080/"
        },
        "id": "_Lgn3mCCWphn",
        "outputId": "1729e510-7c36-4988-a3a7-3c61b7dae2c6"
      },
      "execution_count": 2,
      "outputs": [
        {
          "output_type": "stream",
          "name": "stdout",
          "text": [
            "Mounted at /content/drive\n"
          ]
        }
      ]
    },
    {
      "cell_type": "code",
      "execution_count": 3,
      "metadata": {
        "colab": {
          "base_uri": "https://localhost:8080/"
        },
        "id": "UaCwP2A2V6hC",
        "outputId": "5ab2c499-1484-4e32-b305-38e6eb79f472"
      },
      "outputs": [
        {
          "output_type": "stream",
          "name": "stdout",
          "text": [
            "/content/drive/My Drive/Gamelytics: Mobile Analytics Challenge/auth_data.csv\n",
            "/content/drive/My Drive/Gamelytics: Mobile Analytics Challenge/ab_test.csv\n",
            "/content/drive/My Drive/Gamelytics: Mobile Analytics Challenge/reg_data.csv\n",
            "/content/drive/My Drive/Gamelytics: Mobile Analytics Challenge/Untitled0.ipynb\n"
          ]
        }
      ],
      "source": [
        "import os\n",
        "for dirname, _, filenames in os.walk('/content/drive/My Drive/Gamelytics: Mobile Analytics Challenge'):\n",
        "    for filename in filenames:\n",
        "        print(os.path.join(dirname, filename))"
      ]
    }
  ]
}